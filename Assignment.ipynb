{
  "nbformat": 4,
  "nbformat_minor": 0,
  "metadata": {
    "colab": {
      "provenance": []
    },
    "kernelspec": {
      "name": "python3",
      "display_name": "Python 3"
    },
    "language_info": {
      "name": "python"
    }
  },
  "cells": [
    {
      "cell_type": "markdown",
      "source": [
        "**User Document Storage Service**"
      ],
      "metadata": {
        "id": "jBxOoUGAK7Q1"
      }
    },
    {
      "cell_type": "code",
      "source": [
        "REST API in Java using Spring Boot that allows users to search and download files stored in their S3 bucket. This API assumes that the AWS credentials have already been set up for the application to access the S3 bucket.\n",
        "\n",
        "GET /users/{userName}/files?fileName={searchTerm}\n",
        "\n",
        "This endpoint allows a user to search for files in their S3 bucket by providing their username and a search term for the file name. The API will return a list of file names that match the search term."
      ],
      "metadata": {
        "id": "O0Kda5mzKdYZ"
      },
      "execution_count": null,
      "outputs": []
    },
    {
      "cell_type": "markdown",
      "source": [
        "**Example request:**"
      ],
      "metadata": {
        "id": "Sy6_eeHDKtYw"
      }
    },
    {
      "cell_type": "code",
      "source": [
        "\n",
        "GET /users/sandy/files?fileName=logistics\n"
      ],
      "metadata": {
        "id": "vKCGcw5KKmNz"
      },
      "execution_count": null,
      "outputs": []
    },
    {
      "cell_type": "markdown",
      "source": [
        "**Example response:**"
      ],
      "metadata": {
        "id": "nh2j49fPK398"
      }
    },
    {
      "cell_type": "code",
      "source": [
        "[    \"logistics_2022-02-22.txt\",    \"logistics_2022-02-23.txt\"]\n"
      ],
      "metadata": {
        "id": "XC4tb7jOLPys"
      },
      "execution_count": null,
      "outputs": []
    },
    {
      "cell_type": "code",
      "source": [
        "GET /users/{userName}/files/{fileName}\n",
        "\n",
        "This endpoint allows a user to download a file from their S3 bucket by providing their username and the file name. The API will return the file as a downloadable attachment."
      ],
      "metadata": {
        "id": "8vgyO8SeLRc0"
      },
      "execution_count": null,
      "outputs": []
    },
    {
      "cell_type": "code",
      "source": [
        "GET /users/sandy/files/logistics_2022-02-23.txt\n"
      ],
      "metadata": {
        "id": "8ec0F6O8LYCk"
      },
      "execution_count": null,
      "outputs": []
    },
    {
      "cell_type": "code",
      "source": [
        "Content-Disposition: attachment; filename=logistics_2022-02-23.txt\n",
        "\n",
        "{file content here}\n"
      ],
      "metadata": {
        "id": "JywPGd_-LaaO"
      },
      "execution_count": null,
      "outputs": []
    },
    {
      "cell_type": "code",
      "source": [
        "To implement this API in Java using Spring Boot, you would need to do the following:\n",
        "\n",
        "Set up the AWS SDK for Java to access the S3 bucket.\n",
        "Define the endpoints in a Spring Boot controller class, including the necessary request parameters and return types.\n",
        "Implement the search and download functionality using the AWS SDK for Java.\n",
        "Write JUnit tests to ensure the API functions correctly."
      ],
      "metadata": {
        "id": "2gFngtlmLui6"
      },
      "execution_count": null,
      "outputs": []
    },
    {
      "cell_type": "code",
      "source": [
        "@RestController\n",
        "@RequestMapping(\"/users/{userName}/files\")\n",
        "public class FileController {\n",
        "\n",
        "    @Autowired\n",
        "    private AmazonS3 s3Client;\n",
        "\n",
        "    @GetMapping(params = \"fileName\")\n",
        "    public List<String> searchFiles(@PathVariable String userName, @RequestParam String fileName) {\n",
        "        String prefix = userName + \"/\";\n",
        "        ListObjectsV2Result result = s3Client.listObjectsV2(bucketName, prefix);\n",
        "        List<S3ObjectSummary> objects = result.getObjectSummaries();\n",
        "        List<String> matchingFiles = new ArrayList<>();\n",
        "        for (S3ObjectSummary object : objects) {\n",
        "            if (object.getKey().contains(fileName)) {\n",
        "                matchingFiles.add(object.getKey());\n",
        "            }\n",
        "        }\n",
        "        return matchingFiles;\n",
        "    }\n",
        "\n",
        "    // implementation of download endpoint here\n",
        "}\n"
      ],
      "metadata": {
        "id": "0xULHZcELkyW"
      },
      "execution_count": null,
      "outputs": []
    },
    {
      "cell_type": "code",
      "source": [
        " the searchFiles method takes in the userName and fileName parameters and returns a list of matching file names in the user's S3 bucket. The s3Client object is an instance of the AmazonS3 class from the AWS SDK for Java, which allows the application to interact with the S3 bucket. The listObjectsV2 method is used to retrieve a list of all objects in the user's folder in the S3 bucket, and then the list is filtered to only include objects whose key contains the search term.\n",
        "\n",
        "The implementation of the download endpoint would be similar, but instead of returning a list of file names, it would return the contents of the requested file as a downloadable attachment."
      ],
      "metadata": {
        "id": "4U7w120GL_Pp"
      },
      "execution_count": null,
      "outputs": []
    }
  ]
}